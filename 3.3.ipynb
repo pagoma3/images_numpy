{
 "cells": [
  {
   "cell_type": "code",
   "execution_count": 5,
   "metadata": {},
   "outputs": [
    {
     "name": "stdout",
     "output_type": "stream",
     "text": [
      "[ 12  64 101  44  78  65  25   2]\n",
      "1\n"
     ]
    }
   ],
   "source": [
    "import numpy as np\n",
    "\n",
    "arr = np.array([12, 64, 101, 44, 78, 65, 25, 2])\n",
    "\n",
    "print(arr)\n",
    "\n",
    "print(arr.ndim)"
   ]
  },
  {
   "cell_type": "code",
   "execution_count": 6,
   "metadata": {},
   "outputs": [
    {
     "name": "stdout",
     "output_type": "stream",
     "text": [
      "48.875\n",
      "[-36  15  52  -4  29  16 -23 -46]\n"
     ]
    }
   ],
   "source": [
    "mitjana = sum(arr) / len(arr)\n",
    "\n",
    "print(mitjana)\n",
    "\n",
    "for i in range(len(arr)):\n",
    "    arr[i] -= mitjana\n",
    "\n",
    "print(arr)"
   ]
  },
  {
   "cell_type": "code",
   "execution_count": 7,
   "metadata": {},
   "outputs": [
    {
     "name": "stdout",
     "output_type": "stream",
     "text": [
      "100\n",
      "59\n",
      "100\n",
      "99\n",
      "92\n",
      "81\n"
     ]
    }
   ],
   "source": [
    "matriu = np.array([\n",
    "    [12, 30, 59, 21, 55],\n",
    "    [100, 59, 37, 98, 1],\n",
    "    [10, 55, 99, 12, 49],\n",
    "    [28, 57, 69, 92, 87],\n",
    "    [36, 81, 48, 12, 56],\n",
    "])\n",
    "\n",
    "maxim = print(np.max(matriu))    # Valor màxim absolut de tots els nivells\n",
    "\n",
    "for i in range(len(matriu)):     # Valors màxims de cada segon nivell\n",
    "    print(max(matriu[i]))\n"
   ]
  },
  {
   "cell_type": "code",
   "execution_count": 8,
   "metadata": {},
   "outputs": [
    {
     "name": "stdout",
     "output_type": "stream",
     "text": [
      "[[ 22  85 158  33 104]\n",
      " [128 116 106 190  88]\n",
      " [ 48 111 107  33 111]]\n",
      "[[  2 -25 -40   9   6]\n",
      " [ 72   2 -32   6 -86]\n",
      " [-24 -51  11   9  -1]]\n",
      "[[ -8  10  39   1  35]\n",
      " [ 80  39  17  78 -19]\n",
      " [ -8  10  39   1  35]]\n"
     ]
    },
    {
     "ename": "ValueError",
     "evalue": "operands could not be broadcast together with shapes (3,5) (2,5) ",
     "output_type": "error",
     "traceback": [
      "\u001b[0;31m---------------------------------------------------------------------------\u001b[0m",
      "\u001b[0;31mValueError\u001b[0m                                Traceback (most recent call last)",
      "\u001b[0;32m<ipython-input-8-59f14dcfa90d>\u001b[0m in \u001b[0;36m<module>\u001b[0;34m\u001b[0m\n\u001b[1;32m     28\u001b[0m ])\n\u001b[1;32m     29\u001b[0m \u001b[0;34m\u001b[0m\u001b[0m\n\u001b[0;32m---> 30\u001b[0;31m \u001b[0mproblema\u001b[0m \u001b[0;34m=\u001b[0m \u001b[0mexempleBroadcast\u001b[0m \u001b[0;34m-\u001b[0m \u001b[0mdiferent\u001b[0m\u001b[0;34m\u001b[0m\u001b[0;34m\u001b[0m\u001b[0m\n\u001b[0m",
      "\u001b[0;31mValueError\u001b[0m: operands could not be broadcast together with shapes (3,5) (2,5) "
     ]
    }
   ],
   "source": [
    "exempleBroadcast = np.array([\n",
    "    [12, 30, 59, 21, 55],\n",
    "    [100, 59, 37, 98, 1],\n",
    "    [12, 30, 59, 21, 55]\n",
    "])\n",
    "\n",
    "segonTerme = np.array([\n",
    "    [10, 55, 99, 12, 49],\n",
    "    [28, 57, 69, 92, 87],\n",
    "    [36, 81, 48, 12, 56],\n",
    "])\n",
    "\n",
    "resultat = exempleBroadcast + segonTerme\n",
    "\n",
    "resta = exempleBroadcast - segonTerme\n",
    "\n",
    "print(resultat)\n",
    "\n",
    "print(resta)\n",
    "\n",
    "nomes1 = exempleBroadcast - 20\n",
    "\n",
    "print(nomes1)\n",
    "\n",
    "diferent = np.array([\n",
    "    [10, 55, 99, 12, 49],\n",
    "    [28, 57, 69, 92, 87]\n",
    "])\n",
    "\n",
    "problema = exempleBroadcast - diferent"
   ]
  },
  {
   "cell_type": "code",
   "execution_count": 15,
   "metadata": {},
   "outputs": [
    {
     "name": "stdout",
     "output_type": "stream",
     "text": [
      "Arrays files:\n",
      "[12 30 59 21 55] [100  59  37  98   1] [12 30 59 21 55]\n",
      "Arrays columnes:\n",
      "[12, 100, 12] [30, 59, 30] [59, 37, 59] [21, 98, 21] [55, 1, 55]\n",
      "Sumes files:\n",
      "177 295 177\n",
      "Sumes columnes:\n",
      "124 119 155 140 111\n"
     ]
    }
   ],
   "source": [
    "fila0 = exempleBroadcast[0]\n",
    "fila1 = exempleBroadcast[1]\n",
    "fila2 = exempleBroadcast[2]\n",
    "\n",
    "col0, col1, col2, col3, col4 = [], [], [], [], []\n",
    "\n",
    "for i in range(len(exempleBroadcast)):\n",
    "    if exempleBroadcast[i][0]:\n",
    "        col0.append(exempleBroadcast[i][0])\n",
    "        \n",
    "for i in range(len(exempleBroadcast)):\n",
    "    if exempleBroadcast[i][1]:\n",
    "        col1.append(exempleBroadcast[i][1])\n",
    "        \n",
    "for i in range(len(exempleBroadcast)):\n",
    "    if exempleBroadcast[i][2]:\n",
    "        col2.append(exempleBroadcast[i][2])\n",
    "        \n",
    "for i in range(len(exempleBroadcast)):\n",
    "    if exempleBroadcast[i][3]:\n",
    "        col3.append(exempleBroadcast[i][3])\n",
    "\n",
    "for i in range(len(exempleBroadcast)):\n",
    "    if exempleBroadcast[i][4]:\n",
    "        col4.append(exempleBroadcast[i][4])\n",
    "\n",
    "\n",
    "print(\"Arrays files:\")\n",
    "print(fila0, fila1, fila2)\n",
    "print(\"Arrays columnes:\")\n",
    "print(col0, col1, col2, col3, col4)\n",
    "\n",
    "#####################################################\n",
    "\n",
    "print(\"Sumes files:\")\n",
    "print(sum(fila0), sum(fila1), sum(fila2))\n",
    "print(\"Sumes columnes:\")\n",
    "print(sum(col0), sum(col1), sum(col2), sum(col3), sum(col4))\n",
    "\n"
   ]
  },
  {
   "cell_type": "code",
   "execution_count": 17,
   "metadata": {},
   "outputs": [
    {
     "name": "stdout",
     "output_type": "stream",
     "text": [
      "[[ True False False False False]\n",
      " [ True False False False False]\n",
      " [ True False False False False]]\n"
     ]
    }
   ],
   "source": [
    "vector = exempleBroadcast % 4 == 0\n",
    "\n",
    "print(vector)"
   ]
  },
  {
   "cell_type": "code",
   "execution_count": 24,
   "metadata": {},
   "outputs": [
    {
     "name": "stdout",
     "output_type": "stream",
     "text": [
      "[]\n"
     ]
    }
   ],
   "source": [
    "multiples4 = []\n",
    "\n",
    "for i in range(len(exempleBroadcast)):\n",
    "    if vector[i] is True:\n",
    "        multiples4.append(exempleBroadcast[i])\n",
    "        \n",
    "print(multiples4)\n",
    "\n",
    "######### No sé com fer per tal que els True de vector es corresponguin\n",
    "######### amb valors de exempleBroadcast i després s'afegeixin al nou array "
   ]
  },
  {
   "cell_type": "code",
   "execution_count": 25,
   "metadata": {},
   "outputs": [],
   "source": [
    "import matplotlib.image as mpimg"
   ]
  },
  {
   "cell_type": "code",
   "execution_count": 41,
   "metadata": {},
   "outputs": [
    {
     "ename": "NameError",
     "evalue": "name 'imread' is not defined",
     "output_type": "error",
     "traceback": [
      "\u001b[0;31m---------------------------------------------------------------------------\u001b[0m",
      "\u001b[0;31mNameError\u001b[0m                                 Traceback (most recent call last)",
      "\u001b[0;32m<ipython-input-41-d0b10512619b>\u001b[0m in \u001b[0;36m<module>\u001b[0;34m\u001b[0m\n\u001b[1;32m      5\u001b[0m \u001b[0mimg\u001b[0m\u001b[0;34m.\u001b[0m\u001b[0mshow\u001b[0m\u001b[0;34m(\u001b[0m\u001b[0;34m)\u001b[0m\u001b[0;34m\u001b[0m\u001b[0;34m\u001b[0m\u001b[0m\n\u001b[1;32m      6\u001b[0m \u001b[0;34m\u001b[0m\u001b[0m\n\u001b[0;32m----> 7\u001b[0;31m \u001b[0mimread\u001b[0m\u001b[0;34m(\u001b[0m\u001b[0mimg\u001b[0m\u001b[0;34m,\u001b[0m \u001b[0mformat\u001b[0m\u001b[0;34m=\u001b[0m\u001b[0;32mNone\u001b[0m\u001b[0;34m)\u001b[0m\u001b[0;34m\u001b[0m\u001b[0;34m\u001b[0m\u001b[0m\n\u001b[0m",
      "\u001b[0;31mNameError\u001b[0m: name 'imread' is not defined"
     ]
    }
   ],
   "source": [
    "from PIL import Image\n",
    "\n",
    "img = Image.open(\"foto.jpeg\")\n",
    "\n",
    "img.show()\n",
    "\n",
    "imread(img, format=None)\n",
    "\n",
    "#### No retorna cap valor"
   ]
  }
 ],
 "metadata": {
  "kernelspec": {
   "display_name": "Python 3",
   "language": "python",
   "name": "python3"
  },
  "language_info": {
   "codemirror_mode": {
    "name": "ipython",
    "version": 3
   },
   "file_extension": ".py",
   "mimetype": "text/x-python",
   "name": "python",
   "nbconvert_exporter": "python",
   "pygments_lexer": "ipython3",
   "version": "3.8.5"
  }
 },
 "nbformat": 4,
 "nbformat_minor": 4
}
